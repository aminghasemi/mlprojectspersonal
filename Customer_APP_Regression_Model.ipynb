{
  "nbformat": 4,
  "nbformat_minor": 0,
  "metadata": {
    "colab": {
      "name": "Customer APP - Regression Model.ipynb",
      "provenance": [],
      "include_colab_link": true
    },
    "kernelspec": {
      "name": "python3",
      "display_name": "Python 3"
    }
  },
  "cells": [
    {
      "cell_type": "markdown",
      "metadata": {
        "id": "view-in-github",
        "colab_type": "text"
      },
      "source": [
        "<a href=\"https://colab.research.google.com/github/aminghasemi/mlprojectspersonal/blob/master/Customer_APP_Regression_Model.ipynb\" target=\"_parent\"><img src=\"https://colab.research.google.com/assets/colab-badge.svg\" alt=\"Open In Colab\"/></a>"
      ]
    },
    {
      "cell_type": "code",
      "metadata": {
        "id": "FxtNrvajM5O1",
        "colab_type": "code",
        "colab": {}
      },
      "source": [
        "#This code is written by Amin Ghasemi. It is a Project about finding the best customers on data of using mobile app and website. \n",
        "#The method is used for this project is Linear Regression. \n",
        "\n",
        "#importing libraries\n",
        "\n",
        "import numpy as np\n",
        "import pandas as pd\n",
        "import matplotlib.pyplot as plt\n",
        "import seaborn as sns\n",
        "%matplotlib inline \n",
        "\n",
        "#Getting the Data from CSV file. I put the data on the folder. The filename is ec.csv. the data within it is fake. \n",
        "# If you want to check the data, don't forget to fix the file path. \n",
        "\n",
        "customers=pd.read_csv(r\"C:\\Users\\Amin\\Desktop\\ec.csv\")\n",
        "customers.head() \n",
        "\n",
        "#checking the data\n",
        "\n",
        "customers.info()\n",
        "customers.describe()\n",
        "customers.columns\n",
        "\n",
        "#explore these types of relationships across the entire data set.\n",
        "sns.pairplot(customers)\n",
        "\n",
        "#explore the relationship between length of membership and yearly amount spent. \n",
        "sns.lmplot(x=\"Length of Membership\",y=\"Yearly Amount Spent\",data=customers)\n",
        "\n",
        "#train_test split and implementing the method. \n",
        "\n",
        "X=customers[['Avg. Session Length', 'Time on App','Time on Website', 'Length of Membership']]\n",
        "y=customers['Yearly Amount Spent']\n",
        "from sklearn.model_selection import train_test_split\n",
        "X_train, X_test, y_train, y_test = train_test_split(X, y, test_size=0.3, random_state=101)\n",
        "\n",
        "from sklearn.linear_model import LinearRegression\n",
        "\n",
        "lm = LinearRegression()\n",
        "lm.fit(X_train,y_train)\n",
        "print(lm.intercept_)\n",
        "\n",
        "coeff_df = pd.DataFrame(lm.coef_,X.columns,columns=['Coefficient'])\n",
        "coeff_df\n",
        "predictions = lm.predict(X_test)\n",
        "plt.scatter(y_test,predictions)\n",
        "\n",
        "# checking the Errors:\n",
        "\n",
        "from sklearn import metrics\n",
        "\n",
        "print('MAE:', metrics.mean_absolute_error(y_test, predictions))\n",
        "print('MSE:', metrics.mean_squared_error(y_test, predictions))\n",
        "print('RMSE:', np.sqrt(metrics.mean_squared_error(y_test, predictions)))\n",
        "\n",
        "sns.distplot((y_test-predictions),bins=50);\n",
        "\n",
        "\n"
      ],
      "execution_count": 0,
      "outputs": []
    }
  ]
}